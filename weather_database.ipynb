{
 "cells": [
  {
   "cell_type": "code",
   "execution_count": null,
   "id": "4ac51517",
   "metadata": {},
   "outputs": [],
   "source": [
    "#create 2000 random lat/longs\n"
   ]
  },
  {
   "cell_type": "code",
   "execution_count": null,
   "id": "cacb10bb",
   "metadata": {},
   "outputs": [],
   "source": [
    "#get nearest city numpy"
   ]
  },
  {
   "cell_type": "code",
   "execution_count": null,
   "id": "c36b4e36",
   "metadata": {},
   "outputs": [],
   "source": [
    "#API call OpenWeatherMap"
   ]
  },
  {
   "cell_type": "code",
   "execution_count": null,
   "id": "495bd2e0",
   "metadata": {},
   "outputs": [],
   "source": [
    "#Retrieve the following information from the API call:\n",
    "\n",
    "#Latitude and longitude\n",
    "#Maximum temperature\n",
    "#Percent humidity\n",
    "#Percent cloudiness\n",
    "#Wind speed\n",
    "#Weather description (for example, clouds, fog, light rain, clear sky)\n"
   ]
  },
  {
   "cell_type": "code",
   "execution_count": null,
   "id": "1f297199",
   "metadata": {},
   "outputs": [],
   "source": [
    "#Add the data to a new DataFrame.\n",
    "#Before exporting your new DataFrame as a CSV file, confirm:"
   ]
  }
 ],
 "metadata": {
  "kernelspec": {
   "display_name": "Python 3",
   "language": "python",
   "name": "python3"
  },
  "language_info": {
   "codemirror_mode": {
    "name": "ipython",
    "version": 3
   },
   "file_extension": ".py",
   "mimetype": "text/x-python",
   "name": "python",
   "nbconvert_exporter": "python",
   "pygments_lexer": "ipython3",
   "version": "3.8.8"
  }
 },
 "nbformat": 4,
 "nbformat_minor": 5
}
