{
 "cells": [
  {
   "cell_type": "code",
   "execution_count": 1,
   "id": "7e8feb4a",
   "metadata": {},
   "outputs": [],
   "source": [
    "# Import the random module.\n",
    "import random"
   ]
  },
  {
   "cell_type": "code",
   "execution_count": 2,
   "id": "bfad255f",
   "metadata": {},
   "outputs": [
    {
     "data": {
      "text/plain": [
       "86"
      ]
     },
     "execution_count": 2,
     "metadata": {},
     "output_type": "execute_result"
    }
   ],
   "source": [
    "random.randint(-90, 90)"
   ]
  },
  {
   "cell_type": "code",
   "execution_count": 3,
   "id": "2f29e0c9",
   "metadata": {},
   "outputs": [
    {
     "data": {
      "text/plain": [
       "0.7268205712780507"
      ]
     },
     "execution_count": 3,
     "metadata": {},
     "output_type": "execute_result"
    }
   ],
   "source": [
    "random.random()"
   ]
  },
  {
   "cell_type": "code",
   "execution_count": 4,
   "id": "d30be718",
   "metadata": {},
   "outputs": [
    {
     "data": {
      "text/plain": [
       "13.351819664894075"
      ]
     },
     "execution_count": 4,
     "metadata": {},
     "output_type": "execute_result"
    }
   ],
   "source": [
    "random_number = random.randint(-90, 89) + random.random()\n",
    "random_number"
   ]
  },
  {
   "cell_type": "code",
   "execution_count": 6,
   "id": "c2d67a4b",
   "metadata": {},
   "outputs": [
    {
     "data": {
      "text/plain": [
       "[7.7196500182471866,\n",
       " 32.39100868585104,\n",
       " -65.10292592512036,\n",
       " 27.37739524358795,\n",
       " -9.068778890809234,\n",
       " -82.51118502393213,\n",
       " -3.671715258346242,\n",
       " -43.6047781028309,\n",
       " 21.57835829887504,\n",
       " -73.58801397194365]"
      ]
     },
     "execution_count": 6,
     "metadata": {},
     "output_type": "execute_result"
    }
   ],
   "source": [
    "x = 1\n",
    "latitudes = []\n",
    "while x < 11:\n",
    "    random_lat = random.randint(-90, 89) + random.random()\n",
    "    latitudes.append(random_lat)\n",
    "    x += 1\n",
    "    \n",
    "latitudes"
   ]
  },
  {
   "cell_type": "code",
   "execution_count": 7,
   "id": "397e9c00",
   "metadata": {},
   "outputs": [
    {
     "data": {
      "text/plain": [
       "-1.0840517909215635"
      ]
     },
     "execution_count": 7,
     "metadata": {},
     "output_type": "execute_result"
    }
   ],
   "source": [
    "random.uniform(-90, 90)"
   ]
  },
  {
   "cell_type": "code",
   "execution_count": 8,
   "id": "7ebec39b",
   "metadata": {},
   "outputs": [],
   "source": [
    "# Import the NumPy module.\n",
    "import numpy as np"
   ]
  },
  {
   "cell_type": "code",
   "execution_count": 9,
   "id": "35841a6b",
   "metadata": {},
   "outputs": [
    {
     "data": {
      "text/plain": [
       "14.830929795821092"
      ]
     },
     "execution_count": 9,
     "metadata": {},
     "output_type": "execute_result"
    }
   ],
   "source": [
    "np.random.uniform(-90.000, 90.000)"
   ]
  },
  {
   "cell_type": "code",
   "execution_count": 10,
   "id": "90547aa2",
   "metadata": {},
   "outputs": [
    {
     "data": {
      "text/plain": [
       "array([ 52.82058094, -19.37837374, -64.37983967, -38.48640334,\n",
       "        34.61347656, -45.81807382, -22.26351955, -81.8817286 ,\n",
       "       -54.78887807,  41.4010699 ,  -3.02279226,   3.52900872,\n",
       "       -40.75397066, -27.52473738,  56.51526   ,  28.60459684,\n",
       "       -69.45977937, -24.99721167,  60.94783989, -36.85587259,\n",
       "        62.41223434,  49.33360978,  82.01932444, -24.71052173,\n",
       "       -76.70899447, -30.37077204,  39.09098599, -53.80138979,\n",
       "        29.80635119, -21.73890961, -29.74589457, -72.51809465,\n",
       "       -25.29730392,  43.0061386 , -75.96899058,  66.14420116,\n",
       "         8.56149385,  51.50820493,  60.81598769,  44.23877092,\n",
       "       -77.04135732, -45.05134856, -73.86411285, -51.17960851,\n",
       "        15.20116595,  -8.79104333, -78.8396836 , -26.66808946,\n",
       "        31.7830452 ,  72.64486853])"
      ]
     },
     "execution_count": 10,
     "metadata": {},
     "output_type": "execute_result"
    }
   ],
   "source": [
    "np.random.uniform(-90.000, 90.000, size=50)"
   ]
  },
  {
   "cell_type": "code",
   "execution_count": null,
   "id": "a1bf05b0",
   "metadata": {},
   "outputs": [],
   "source": []
  }
 ],
 "metadata": {
  "kernelspec": {
   "display_name": "Python 3",
   "language": "python",
   "name": "python3"
  },
  "language_info": {
   "codemirror_mode": {
    "name": "ipython",
    "version": 3
   },
   "file_extension": ".py",
   "mimetype": "text/x-python",
   "name": "python",
   "nbconvert_exporter": "python",
   "pygments_lexer": "ipython3",
   "version": "3.8.8"
  }
 },
 "nbformat": 4,
 "nbformat_minor": 5
}
