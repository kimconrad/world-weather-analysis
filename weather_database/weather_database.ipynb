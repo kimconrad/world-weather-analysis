{
 "cells": [
  {
   "cell_type": "code",
   "execution_count": 1,
   "id": "8c85c3cb",
   "metadata": {},
   "outputs": [],
   "source": [
    "# Import the dependencies.\n",
    "import pandas as pd\n",
    "import matplotlib.pyplot as plt\n",
    "import numpy as np\n",
    "\n",
    "from citipy import citipy"
   ]
  },
  {
   "cell_type": "code",
   "execution_count": 14,
   "id": "4ac51517",
   "metadata": {},
   "outputs": [
    {
     "data": {
      "text/plain": [
       "<zip at 0x11d9ad0f0>"
      ]
     },
     "execution_count": 14,
     "metadata": {},
     "output_type": "execute_result"
    }
   ],
   "source": [
    "#3. Create a new set of 2,000 random latitudes and longitudes.\n",
    "\n",
    "lats = np.random.uniform(low=-90.000, high=90.000, size=8500)\n",
    "lngs = np.random.uniform(low=-180.000, high=180.000, size=8500)\n",
    "lat_lngs = zip(lats, lngs)\n",
    "lat_lngs\n"
   ]
  },
  {
   "cell_type": "code",
   "execution_count": 15,
   "id": "c319b200",
   "metadata": {},
   "outputs": [],
   "source": [
    "# Add the latitudes and longitudes to a list.\n",
    "coordinates = list(lat_lngs)"
   ]
  },
  {
   "cell_type": "code",
   "execution_count": 16,
   "id": "cacb10bb",
   "metadata": {},
   "outputs": [
    {
     "data": {
      "text/plain": [
       "2008"
      ]
     },
     "execution_count": 16,
     "metadata": {},
     "output_type": "execute_result"
    }
   ],
   "source": [
    "#4. Get the nearest city using citipy module\n",
    "\n",
    "# Initialize cities list\n",
    "cities = []\n",
    "# Identify the nearest city for each latitude and longitude combination.\n",
    "for coordinate in coordinates:\n",
    "    city = citipy.nearest_city(coordinate[0], coordinate[1]).city_name\n",
    "\n",
    "    # If the city is unique, then we will add it to the cities list.\n",
    "    if city not in cities:\n",
    "        cities.append(city)\n",
    "# Print the city count to confirm sufficient count.\n",
    "len(cities)"
   ]
  },
  {
   "cell_type": "code",
   "execution_count": 24,
   "id": "460e5a5d",
   "metadata": {},
   "outputs": [],
   "source": [
    "#5. Perform an API call with OpenWeatherMap.\n",
    "\n",
    "# Import the requests library.\n",
    "import requests\n",
    "\n",
    "# Import the API key.\n",
    "from config import weather_api_key\n",
    "\n",
    "# Import the time library and the datetime module from the datetime library \n",
    "import time\n",
    "from datetime import datetime"
   ]
  },
  {
   "cell_type": "code",
   "execution_count": 25,
   "id": "495bd2e0",
   "metadata": {},
   "outputs": [
    {
     "name": "stdout",
     "output_type": "stream",
     "text": [
      "Beginning Data Retrieval     \n",
      "-----------------------------\n"
     ]
    }
   ],
   "source": [
    "#6. Retrieve the following information from the API call:\n",
    "\n",
    "#Latitude and longitude\n",
    "#Maximum temperature\n",
    "#Percent humidity\n",
    "#Percent cloudiness\n",
    "#Wind speed\n",
    "#Weather description (for example, clouds, fog, light rain, clear sky)\n",
    "\n",
    "# Starting URL for Weather Map API Call.\n",
    "url = \"http://api.openweathermap.org/data/2.5/weather?units=Imperial&APPID=\" + weather_api_key\n",
    "\n",
    "\n",
    "# Create an empty list to hold the weather data.\n",
    "city_data = []\n",
    "# Print the beginning of the logging.\n",
    "print(\"Beginning Data Retrieval     \")\n",
    "print(\"-----------------------------\")\n",
    "\n",
    "# Create counters.\n",
    "record_count = 1\n",
    "set_count = 1\n"
   ]
  },
  {
   "cell_type": "code",
   "execution_count": null,
   "id": "733b4606",
   "metadata": {},
   "outputs": [
    {
     "name": "stdout",
     "output_type": "stream",
     "text": [
      "Processing Record 1 of Set 1 | ushuaia\n",
      "City not found. Skipping...\n",
      "Processing Record 2 of Set 1 | castro\n",
      "City not found. Skipping...\n",
      "Processing Record 3 of Set 1 | bredasdorp\n",
      "City not found. Skipping...\n",
      "Processing Record 4 of Set 1 | sentyabrskiy\n",
      "City not found. Skipping...\n",
      "Processing Record 5 of Set 1 | tahta\n",
      "City not found. Skipping...\n",
      "Processing Record 6 of Set 1 | rikitea\n",
      "City not found. Skipping...\n",
      "Processing Record 7 of Set 1 | busselton\n",
      "City not found. Skipping...\n",
      "Processing Record 8 of Set 1 | arraial do cabo\n",
      "City not found. Skipping...\n",
      "Processing Record 9 of Set 1 | luderitz\n",
      "City not found. Skipping...\n",
      "Processing Record 10 of Set 1 | ponta do sol\n",
      "City not found. Skipping...\n",
      "Processing Record 11 of Set 1 | borgarnes\n",
      "City not found. Skipping...\n",
      "Processing Record 12 of Set 1 | umm kaddadah\n",
      "City not found. Skipping...\n",
      "Processing Record 13 of Set 1 | kapaa\n",
      "City not found. Skipping...\n",
      "Processing Record 14 of Set 1 | georgetown\n",
      "City not found. Skipping...\n",
      "Processing Record 15 of Set 1 | znamenskoye\n",
      "City not found. Skipping...\n",
      "Processing Record 16 of Set 1 | avarua\n",
      "City not found. Skipping...\n",
      "Processing Record 17 of Set 1 | esperance\n",
      "City not found. Skipping...\n",
      "Processing Record 18 of Set 1 | carauari\n",
      "City not found. Skipping...\n",
      "Processing Record 19 of Set 1 | puerto ayora\n",
      "City not found. Skipping...\n",
      "Processing Record 20 of Set 1 | panjab\n",
      "City not found. Skipping...\n",
      "Processing Record 21 of Set 1 | talnakh\n",
      "City not found. Skipping...\n",
      "Processing Record 22 of Set 1 | yellowknife\n",
      "City not found. Skipping...\n",
      "Processing Record 23 of Set 1 | malakal\n",
      "City not found. Skipping...\n",
      "Processing Record 24 of Set 1 | illoqqortoormiut\n",
      "City not found. Skipping...\n",
      "Processing Record 25 of Set 1 | barentsburg\n",
      "City not found. Skipping...\n",
      "Processing Record 26 of Set 1 | porto san giorgio\n",
      "City not found. Skipping...\n",
      "Processing Record 27 of Set 1 | simao\n",
      "City not found. Skipping...\n",
      "Processing Record 28 of Set 1 | taolanaro\n",
      "City not found. Skipping...\n",
      "Processing Record 29 of Set 1 | provideniya\n",
      "City not found. Skipping...\n",
      "Processing Record 30 of Set 1 | vaini\n",
      "City not found. Skipping...\n",
      "Processing Record 31 of Set 1 | kloulklubed\n",
      "City not found. Skipping...\n",
      "Processing Record 32 of Set 1 | husavik\n",
      "City not found. Skipping...\n",
      "Processing Record 33 of Set 1 | east london\n",
      "City not found. Skipping...\n",
      "Processing Record 34 of Set 1 | imaculada\n",
      "City not found. Skipping...\n",
      "Processing Record 35 of Set 1 | quelimane\n",
      "City not found. Skipping...\n",
      "Processing Record 36 of Set 1 | pisco\n",
      "City not found. Skipping...\n",
      "Processing Record 37 of Set 1 | punta arenas\n",
      "City not found. Skipping...\n",
      "Processing Record 38 of Set 1 | bengkulu\n",
      "City not found. Skipping...\n",
      "Processing Record 39 of Set 1 | barrow\n",
      "City not found. Skipping...\n",
      "Processing Record 40 of Set 1 | hermanus\n",
      "City not found. Skipping...\n",
      "Processing Record 41 of Set 1 | amderma\n",
      "City not found. Skipping...\n",
      "Processing Record 42 of Set 1 | nizhneyansk\n",
      "City not found. Skipping...\n",
      "Processing Record 43 of Set 1 | san giovanni rotondo\n",
      "City not found. Skipping...\n",
      "Processing Record 44 of Set 1 | kittery\n",
      "City not found. Skipping...\n",
      "Processing Record 45 of Set 1 | saint-philippe\n",
      "City not found. Skipping...\n",
      "Processing Record 46 of Set 1 | smolenka\n",
      "City not found. Skipping...\n",
      "Processing Record 47 of Set 1 | marcona\n",
      "City not found. Skipping...\n",
      "Processing Record 48 of Set 1 | cherskiy\n",
      "City not found. Skipping...\n",
      "Processing Record 49 of Set 1 | upernavik\n",
      "City not found. Skipping...\n",
      "Processing Record 50 of Set 1 | torbay\n",
      "City not found. Skipping...\n",
      "Processing Record 1 of Set 2 | albany\n",
      "City not found. Skipping...\n",
      "Processing Record 2 of Set 2 | afrikanda\n",
      "City not found. Skipping...\n",
      "Processing Record 3 of Set 2 | arras\n",
      "City not found. Skipping...\n",
      "Processing Record 4 of Set 2 | namibe\n",
      "City not found. Skipping...\n",
      "Processing Record 5 of Set 2 | new norfolk\n",
      "City not found. Skipping...\n",
      "Processing Record 6 of Set 2 | berlevag\n",
      "City not found. Skipping...\n",
      "Processing Record 7 of Set 2 | sao joao da barra\n",
      "City not found. Skipping...\n",
      "Processing Record 8 of Set 2 | tumannyy\n",
      "City not found. Skipping...\n",
      "Processing Record 9 of Set 2 | bluff\n",
      "City not found. Skipping...\n",
      "Processing Record 10 of Set 2 | tasiilaq\n"
     ]
    }
   ],
   "source": [
    "# Loop through all the cities in our list.\n",
    "for i, city in enumerate(cities):\n",
    "\n",
    "    # Group cities in sets of 50 for logging purposes.\n",
    "    if (i % 50 == 0 and i >= 50):\n",
    "        set_count += 1\n",
    "        record_count = 1\n",
    "        time.sleep(60)\n",
    "\n",
    "    # Create endpoint URL with each city.\n",
    "    city_url = url + \"&q=\" + city.replace(\" \",\"+\")\n",
    "\n",
    "    # Log the URL, record, and set numbers and the city.\n",
    "    print(f\"Processing Record {record_count} of Set {set_count} | {city}\")\n",
    "    # Add 1 to the record count.\n",
    "    record_count += 1\n",
    "    \n",
    "# Run an API request for each of the cities.\n",
    "    try:\n",
    "        # Parse the JSON and retrieve data.\n",
    "        city_weather = requests.get(city_url).json()\n",
    "        # Parse out the needed data.\n",
    "        city_country = city_weather[\"sys\"][\"country\"]\n",
    "        city_lat = city_weather[\"coord\"][\"lat\"]\n",
    "        city_lng = city_weather[\"coord\"][\"lon\"]\n",
    "        city_max_temp = city_weather[\"main\"][\"temp_max\"]\n",
    "        city_humidity = city_weather[\"main\"][\"humidity\"]\n",
    "        city_clouds = city_weather[\"clouds\"][\"all\"]\n",
    "        city_wind = city_weather[\"wind\"][\"speed\"]\n",
    "        city_wx = city_weather[\"weather\"][\"description\"]\n",
    "        # Convert the date to ISO standard.\n",
    "        city_date = datetime.utcfromtimestamp(city_weather[\"dt\"]).strftime('%Y-%m-%d %H:%M:%S')\n",
    "        # Append the city information into city_data list.\n",
    "        city_data.append({\"City\": city.title(),\n",
    "                          \"Country\": city_country,\n",
    "                          \"Lat\": city_lat,\n",
    "                          \"Lng\": city_lng,\n",
    "                          \"Max Temp\": city_max_temp,\n",
    "                          \"Humidity\": city_humidity,\n",
    "                          \"Cloudiness\": city_clouds,\n",
    "                          \"Wind Speed\": city_wind,\n",
    "                          \"Description\": city_wx,\n",
    "                          \"Date\": city_date})\n",
    "\n",
    "# If an error is experienced, skip the city.\n",
    "    except:\n",
    "        print(\"City not found. Skipping...\")\n",
    "        pass\n",
    "\n",
    "# Indicate that Data Loading is complete.\n",
    "print(\"-----------------------------\")\n",
    "print(\"Data Retrieval Complete      \")\n",
    "print(\"-----------------------------\")\n"
   ]
  },
  {
   "cell_type": "code",
   "execution_count": null,
   "id": "1f297199",
   "metadata": {},
   "outputs": [],
   "source": [
    "#7. Add the data to a new DataFrame.\n",
    "city_data_df = pd.DataFrame(city_data)\n",
    "city_data_df.head(10)"
   ]
  },
  {
   "cell_type": "code",
   "execution_count": null,
   "id": "e0fff418",
   "metadata": {},
   "outputs": [],
   "source": [
    "#8. Export new DataFrame as a CSV file to weatherpy_database.csv"
   ]
  }
 ],
 "metadata": {
  "kernelspec": {
   "display_name": "Python 3",
   "language": "python",
   "name": "python3"
  },
  "language_info": {
   "codemirror_mode": {
    "name": "ipython",
    "version": 3
   },
   "file_extension": ".py",
   "mimetype": "text/x-python",
   "name": "python",
   "nbconvert_exporter": "python",
   "pygments_lexer": "ipython3",
   "version": "3.7.10"
  }
 },
 "nbformat": 4,
 "nbformat_minor": 5
}
